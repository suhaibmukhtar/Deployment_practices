{
 "cells": [
  {
   "cell_type": "markdown",
   "id": "0f78433f",
   "metadata": {},
   "source": [
    "## Reverse the elements of an array"
   ]
  },
  {
   "cell_type": "markdown",
   "id": "6df876ec",
   "metadata": {},
   "source": [
    "An array is a type of data structure that stores elements of the same type in a contiguous block of memory. In an array, A, of size n, each memory location has some unique index, i (where A[i] ), that can be referenced as  or .\n",
    "\n",
    "Reverse an array of integers.\n",
    "\n",
    "Note: If you've already solved our C++ domain's Arrays Introduction challenge, you may want to skip this.\n",
    "\n",
    "Example\n",
    "\n",
    "Return .\n",
    "\n",
    "Function Description\n",
    "\n",
    "Complete the function reverseArray in the editor below.\n",
    "\n",
    "reverseArray has the following parameter(s):\n",
    "\n",
    "int A[n]: the array to reverse\n",
    "Returns\n",
    "\n",
    "int[n]: the reversed array\n",
    "Input Format\n",
    "\n",
    "The first line contains an integer, , the number of integers in .\n",
    "The second line contains  space-separated integers that make up ."
   ]
  },
  {
   "cell_type": "code",
   "execution_count": 5,
   "id": "d4dae0b3",
   "metadata": {},
   "outputs": [
    {
     "name": "stdout",
     "output_type": "stream",
     "text": [
      "[6, 5, 4, 3, 2, 1]\n"
     ]
    }
   ],
   "source": [
    "### one way\n",
    "def reverse_array(n,ar):\n",
    "    arr=ar[::-1]\n",
    "    return arr\n",
    "\n",
    "a=[1,2,3,4,5,6]\n",
    "print(reverse_array(len(a),a))"
   ]
  },
  {
   "cell_type": "markdown",
   "id": "cbdcbc25",
   "metadata": {},
   "source": [
    "### Another way"
   ]
  },
  {
   "cell_type": "code",
   "execution_count": 8,
   "id": "101fe611",
   "metadata": {},
   "outputs": [
    {
     "name": "stdout",
     "output_type": "stream",
     "text": [
      "Enter the number of elements you want to enter:5\n",
      "Enter the 0th element:1\n",
      "Enter the 1th element:2\n",
      "Enter the 2th element:3\n",
      "Enter the 3th element:4\n",
      "Enter the 4th element:5\n",
      "[5, 4, 3, 2, 1]\n"
     ]
    }
   ],
   "source": [
    "def reverse_arrays(n,a):\n",
    "    li=list()\n",
    "    for i in range(n-1,-1,-1):\n",
    "        li.append(a[i])\n",
    "    return li\n",
    "        \n",
    "\n",
    "n=int(input('Enter the number of elements you want to enter:'))\n",
    "a=list()\n",
    "for i in range(n):\n",
    "    a.append(int(input(f'Enter the {i}th element:')))\n",
    "print(reverse_arrays(len(a),a))"
   ]
  },
  {
   "cell_type": "code",
   "execution_count": null,
   "id": "e0f57576",
   "metadata": {},
   "outputs": [],
   "source": []
  }
 ],
 "metadata": {
  "kernelspec": {
   "display_name": "Python 3 (ipykernel)",
   "language": "python",
   "name": "python3"
  },
  "language_info": {
   "codemirror_mode": {
    "name": "ipython",
    "version": 3
   },
   "file_extension": ".py",
   "mimetype": "text/x-python",
   "name": "python",
   "nbconvert_exporter": "python",
   "pygments_lexer": "ipython3",
   "version": "3.9.13"
  }
 },
 "nbformat": 4,
 "nbformat_minor": 5
}
