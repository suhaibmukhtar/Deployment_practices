{
 "cells": [
  {
   "cell_type": "code",
   "execution_count": 2,
   "id": "1916916c",
   "metadata": {},
   "outputs": [
    {
     "name": "stdout",
     "output_type": "stream",
     "text": [
      "Enter number of Stars:5\n",
      "* * * * * \n",
      "* * * * * \n",
      "* * * * * \n",
      "* * * * * \n",
      "* * * * * \n"
     ]
    }
   ],
   "source": [
    "# *****\n",
    "# *****\n",
    "# *****\n",
    "# *****\n",
    "# *****\n",
    "# *****\n",
    "n=int(input(\"Enter number of lines:\"))\n",
    "for i in range(n):\n",
    "    for j in range(n):\n",
    "        print(\"*\",end=\" \")\n",
    "    print()"
   ]
  },
  {
   "cell_type": "code",
   "execution_count": 4,
   "id": "c20ce932",
   "metadata": {},
   "outputs": [
    {
     "name": "stdout",
     "output_type": "stream",
     "text": [
      "Enter number of lines:5\n",
      "* \n",
      "* * \n",
      "* * * \n",
      "* * * * \n",
      "* * * * * \n"
     ]
    }
   ],
   "source": [
    "# *\n",
    "# * *\n",
    "# * * *\n",
    "# * * * *\n",
    "\n",
    "n=int(input(\"Enter number of lines:\"))\n",
    "for i in range(n):\n",
    "    for j in range(n):\n",
    "        if j<=i:\n",
    "            print(\"*\",end=\" \")\n",
    "    print()"
   ]
  },
  {
   "cell_type": "code",
   "execution_count": 12,
   "id": "be2d90f0",
   "metadata": {},
   "outputs": [
    {
     "name": "stdout",
     "output_type": "stream",
     "text": [
      "Enter the input:5\n",
      "1 \n",
      "1 2 \n",
      "1 2 3 \n",
      "1 2 3 4 \n",
      "1 2 3 4 5 \n",
      "1 \n",
      "1 2 \n",
      "1 2 3 \n",
      "1 2 3 4 \n",
      "1 2 3 4 5 \n"
     ]
    }
   ],
   "source": [
    "# 1\n",
    "# 1 2\n",
    "# 1 2 3\n",
    "# 1 2 3 4\n",
    "# 1 2 3 4 5\n",
    "n=int(input(\"Enter the input:\"))\n",
    "for i in range(1,n+1):\n",
    "    for j in range(1,n+1):\n",
    "        if j<=i:\n",
    "            print(j,end=\" \")\n",
    "    print()\n",
    "for i in range(1,n+1):\n",
    "    for j in range(1,i+1):\n",
    "        print(j,end=\" \")\n",
    "    print()"
   ]
  },
  {
   "cell_type": "code",
   "execution_count": 13,
   "id": "9a222ff5",
   "metadata": {},
   "outputs": [
    {
     "name": "stdout",
     "output_type": "stream",
     "text": [
      "Enter the number of lines:5\n",
      "1 \n",
      "2 2 \n",
      "3 3 3 \n",
      "4 4 4 4 \n",
      "5 5 5 5 5 \n"
     ]
    }
   ],
   "source": [
    "# 1\n",
    "# 2 2\n",
    "# 3 3 3\n",
    "# 4 4 4 4\n",
    "n=int(input(\"Enter the number of lines:\"))\n",
    "for i in range(1,n+1):\n",
    "    for j in range(1,i+1):\n",
    "            print(i,end=\" \")\n",
    "    print()\n",
    "    \n"
   ]
  },
  {
   "cell_type": "code",
   "execution_count": 21,
   "id": "a29292cf",
   "metadata": {},
   "outputs": [
    {
     "name": "stdout",
     "output_type": "stream",
     "text": [
      "Enter the number of lines:6\n",
      "1 2 3 4 5 6 \n",
      "1 2 3 4 5 \n",
      "1 2 3 4 \n",
      "1 2 3 \n",
      "1 2 \n",
      "1 \n"
     ]
    }
   ],
   "source": [
    "# ******\n",
    "# *****\n",
    "# ****\n",
    "# ***\n",
    "# *\n",
    "n=int(input(\"Enter the number of lines:\"))\n",
    "for i in range(0,n):\n",
    "    for j in range(1,(n-i+1)): #n-i+1 is used to decrease by ith value bcz python excludes last value\n",
    "        print(j,end=\" \")\n",
    "    print()"
   ]
  },
  {
   "cell_type": "code",
   "execution_count": 44,
   "id": "33827790",
   "metadata": {},
   "outputs": [
    {
     "name": "stdout",
     "output_type": "stream",
     "text": [
      "Enter the number:6\n",
      "_ _ _ _ _ * \n",
      "_ _ _ _ * * * \n",
      "_ _ _ * * * * * \n",
      "_ _ * * * * * * * \n",
      "_ * * * * * * * * * \n",
      "* * * * * * * * * * * \n"
     ]
    }
   ],
   "source": [
    "#       *\n",
    "#      ***\n",
    "#     *****\n",
    "#    *******\n",
    "#   *********\n",
    "#rows\n",
    "n=int(input(\"Enter the number:\"))\n",
    "for i in range(1,n+1):\n",
    "    #for spaces one  4,3,2,1 if n=5\n",
    "    for k in range(n,i,-1):\n",
    "        print(\"_\",end=\" \")\n",
    "    for j in range(1,2*i): # i=1 j=1 i=2,j=1,2,3 bcz last term is excluded\n",
    "        print(\"*\",end=\" \")\n",
    "    print()\n",
    "    "
   ]
  },
  {
   "cell_type": "code",
   "execution_count": 48,
   "id": "2f88cfc8",
   "metadata": {},
   "outputs": [
    {
     "name": "stdout",
     "output_type": "stream",
     "text": [
      "Enter the lines:5\n",
      "* * * * * * * * * \n",
      "_ * * * * * * * \n",
      "_ _ * * * * * \n",
      "_ _ _ * * * \n",
      "_ _ _ _ * \n"
     ]
    }
   ],
   "source": [
    "# * * * * * * *\n",
    "# _ * * * * *\n",
    "# _ _ * * *\n",
    "# _ _ _ *\n",
    "n=int(input('Enter the lines:'))\n",
    "for i in range(n,0,-1):\n",
    "    #spaces\n",
    "    for j in range(i,n): #n=5 space=1 inverse\n",
    "        print(\"_\",end=\" \")\n",
    "    #columns\n",
    "    for k in range(0,2*i-1):\n",
    "        print(\"*\",end=\" \")\n",
    "    print()"
   ]
  },
  {
   "cell_type": "code",
   "execution_count": 72,
   "id": "927b98ff",
   "metadata": {},
   "outputs": [
    {
     "name": "stdout",
     "output_type": "stream",
     "text": [
      "Enter the number of lines:5\n",
      "_ _ _ _ * \n",
      "_ _ _ * * * \n",
      "_ _ * * * * * \n",
      "_ * * * * * * * \n",
      "* * * * * * * * * \n",
      "_ * * * * * * * \n",
      "_ _ * * * * * \n",
      "_ _ _ * * * \n",
      "_ _ _ _ * \n"
     ]
    }
   ],
   "source": [
    "#       *\n",
    "#     * * *\n",
    "#   * * * * * \n",
    "# * * * * * * *\n",
    "#   * * * * *\n",
    "#     * * *\n",
    "#       * \n",
    "n=int(input(\"Enter the number of lines:\"))\n",
    "for i in range(0,n):\n",
    "    #spaces\n",
    "    for j in range(n,i+1,-1):\n",
    "        print(\"_\",end=\" \")\n",
    "    #columns\n",
    "    for k in range(0,2*i+1):\n",
    "        print(\"*\",end=\" \")\n",
    "    print()\n",
    "for i in range(n-1,0,-1):  \n",
    "    #space\n",
    "    for l in range(i,n):\n",
    "        print(\"_\",end=\" \")\n",
    "    #columns\n",
    "    for m in range(0,2*i-1):\n",
    "        print(\"*\",end=\" \")\n",
    "    print()\n",
    "#     for m in range()\n",
    "    \n",
    "    "
   ]
  },
  {
   "cell_type": "code",
   "execution_count": 3,
   "id": "0bb572cb",
   "metadata": {},
   "outputs": [
    {
     "name": "stdout",
     "output_type": "stream",
     "text": [
      "Enter the number of lines:6\n",
      "* \n",
      "* * \n",
      "* * * \n",
      "* * * * \n",
      "* * * * * \n",
      "* * * * * * \n",
      "* * * * * \n",
      "* * * * \n",
      "* * * \n",
      "* * \n",
      "* \n",
      "\n"
     ]
    }
   ],
   "source": [
    "# *\n",
    "# * *\n",
    "# * * *\n",
    "# * * * *\n",
    "# * * *\n",
    "# * *\n",
    "# *\n",
    "n=int(input(\"Enter the number of lines:\"))\n",
    "for i in range(n):\n",
    "    #columns\n",
    "    for j in range(i+1):\n",
    "        print(\"* \",end=\"\")\n",
    "    print()\n",
    "for i in range(n):\n",
    "    #loop for reverse\n",
    "    for k in range(n-1,i,-1): #3,2,1\n",
    "        print(\"* \",end=\"\")\n",
    "    print()"
   ]
  },
  {
   "cell_type": "code",
   "execution_count": 6,
   "id": "45b6712c",
   "metadata": {},
   "outputs": [
    {
     "name": "stdout",
     "output_type": "stream",
     "text": [
      "Enter the number of lines:6\n",
      "1 \n",
      "0 1 \n",
      "1 0 1 \n",
      "0 1 0 1 \n",
      "1 0 1 0 1 \n",
      "0 1 0 1 0 1 \n"
     ]
    }
   ],
   "source": [
    "# 1\n",
    "# 0 1\n",
    "# 1 0 1\n",
    "# 0 1 0 1\n",
    "# 1 0 1 0 1\n",
    "n=int(input(\"Enter the number of lines:\"))\n",
    "#rows\n",
    "for i in range(n):\n",
    "    #cols\n",
    "    for j in range(i+1):\n",
    "        if (i+j)%2==0: #take care of precision\n",
    "            print(1,end=\" \")\n",
    "        else:\n",
    "            print(0,end=\" \")\n",
    "    print()\n",
    "    \n"
   ]
  },
  {
   "cell_type": "code",
   "execution_count": 12,
   "id": "32d9fe1e",
   "metadata": {},
   "outputs": [
    {
     "name": "stdout",
     "output_type": "stream",
     "text": [
      "Enter the number:7\n",
      "1 _ _ _ _ _ _ _ _ _ _ _ _ 1 \n",
      "1 2 _ _ _ _ _ _ _ _ _ _ 2 1 \n",
      "1 2 3 _ _ _ _ _ _ _ _ 3 2 1 \n",
      "1 2 3 4 _ _ _ _ _ _ 4 3 2 1 \n",
      "1 2 3 4 5 _ _ _ _ 5 4 3 2 1 \n",
      "1 2 3 4 5 6 _ _ 6 5 4 3 2 1 \n",
      "1 2 3 4 5 6 7 7 6 5 4 3 2 1 \n"
     ]
    }
   ],
   "source": [
    "# 1------1\n",
    "# 12 ---21\n",
    "# 123--321\n",
    "# 12344321\n",
    "n=int(input('Enter the number:'))\n",
    "#rows\n",
    "for i in range(1,n+1):\n",
    "    save=0\n",
    "    #cols for ist\n",
    "    for j in range(1,i+1): #i diretly j\n",
    "        print(j,end=\" \")\n",
    "        save=j\n",
    "    #spaces\n",
    "    for k in range(2*(n-i),0,-1):\n",
    "        print(\"_\",end=\" \")\n",
    "    #in same line print 2nd triangle\n",
    "    for l in range(save,0,-1):\n",
    "        print(l,end=\" \")\n",
    "    #new line\n",
    "    print()"
   ]
  },
  {
   "cell_type": "code",
   "execution_count": 16,
   "id": "99fdc9de",
   "metadata": {},
   "outputs": [
    {
     "name": "stdout",
     "output_type": "stream",
     "text": [
      "Enter the lines:5\n",
      "1 \n",
      "2 3 \n",
      "4 5 6 \n",
      "7 8 9 10 \n",
      "11 12 13 14 15 \n"
     ]
    }
   ],
   "source": [
    "# 1\n",
    "# 2 3\n",
    "# 4 5 6 \n",
    "# 7 8 9 10\n",
    "n=int(input(\"Enter the lines:\"))\n",
    "k=1\n",
    "#rows\n",
    "for i in range(n):\n",
    "    #cols\n",
    "    for j in range(i+1):\n",
    "        print(k,end=\" \")\n",
    "        k+=1\n",
    "    #newline\n",
    "    print()"
   ]
  },
  {
   "cell_type": "code",
   "execution_count": 21,
   "id": "ffbab0ef",
   "metadata": {},
   "outputs": [
    {
     "name": "stdout",
     "output_type": "stream",
     "text": [
      "Enter number of lines:6\n",
      "A\n",
      "AB\n",
      "ABC\n",
      "ABCD\n",
      "ABCDE\n",
      "ABCDEF\n"
     ]
    }
   ],
   "source": [
    "# A\n",
    "# AB\n",
    "# ABC\n",
    "# ABCD\n",
    "# ABCDE\n",
    "n=int(input(\"Enter number of lines:\"))\n",
    "a=65  #chr converts integer to char and ord converts character to integer\n",
    "for i in range(n):\n",
    "    for j in range(i+1):\n",
    "        print(chr(a+j),end=\"\")\n",
    "    print()\n",
    "        "
   ]
  },
  {
   "cell_type": "code",
   "execution_count": 24,
   "id": "440eda25",
   "metadata": {},
   "outputs": [
    {
     "name": "stdout",
     "output_type": "stream",
     "text": [
      "Enter the number:6\n",
      "ABCDEF\n",
      "ABCDE\n",
      "ABCD\n",
      "ABC\n",
      "AB\n",
      "A\n"
     ]
    }
   ],
   "source": [
    "# ABCDE\n",
    "# ABCD\n",
    "# ABC\n",
    "# AB\n",
    "# A\n",
    "n=int(input(\"Enter the number:\"))\n",
    "a=65\n",
    "#rows\n",
    "for i in range(n,0,-1):\n",
    "    #cols inverse relation\n",
    "    for j in range(i):#n=5,j=0,1,2,3,4\n",
    "        print(chr(a+j),end=\"\")\n",
    "    #newline\n",
    "    print()"
   ]
  },
  {
   "cell_type": "code",
   "execution_count": 25,
   "id": "36c64c9c",
   "metadata": {},
   "outputs": [
    {
     "name": "stdout",
     "output_type": "stream",
     "text": [
      "Enter number of lines:5\n",
      "A\n",
      "BB\n",
      "CCC\n",
      "DDDD\n",
      "EEEEE\n"
     ]
    }
   ],
   "source": [
    "# A\n",
    "# BB\n",
    "# CCC\n",
    "# DDDD\n",
    "# EEEEE\n",
    "n=int(input(\"Enter number of lines:\"))\n",
    "a=65  #chr converts integer to char and ord converts character to integer\n",
    "for i in range(n):\n",
    "    for j in range(i+1):\n",
    "        print(chr(a+i),end=\"\")\n",
    "    print()\n",
    "        "
   ]
  },
  {
   "cell_type": "code",
   "execution_count": 28,
   "id": "26912c93",
   "metadata": {},
   "outputs": [
    {
     "name": "stdout",
     "output_type": "stream",
     "text": [
      "Enter number of lines:5\n",
      "____A\n",
      "___ABA\n",
      "__ABCBA\n",
      "_ABCDCBA\n",
      "ABCDEDCBA\n"
     ]
    }
   ],
   "source": [
    "# ---A\n",
    "# --ABA\n",
    "# -ABCBA\n",
    "# ABCDCBA\n",
    "\n",
    "n=int(input('Enter number of lines:'))\n",
    "a=64 #bcz starting from 1\n",
    "#rows\n",
    "for i in range(1,n+1):\n",
    "    save=0\n",
    "    #spaces\n",
    "    for j in range(n-i,0,-1):\n",
    "        print(\"_\",end=\"\")\n",
    "    #now cols\n",
    "    for k in range(1,i+1):\n",
    "        print(chr(a+k),end=\"\")\n",
    "        save=k\n",
    "    #secondhalf for reverseing\n",
    "    for l in range(save-1,0,-1):\n",
    "        print(chr(a+l),end=\"\")\n",
    "    #newline\n",
    "    print()\n",
    "    \n"
   ]
  },
  {
   "cell_type": "code",
   "execution_count": null,
   "id": "45ed84e4",
   "metadata": {},
   "outputs": [],
   "source": []
  }
 ],
 "metadata": {
  "kernelspec": {
   "display_name": "Python 3 (ipykernel)",
   "language": "python",
   "name": "python3"
  },
  "language_info": {
   "codemirror_mode": {
    "name": "ipython",
    "version": 3
   },
   "file_extension": ".py",
   "mimetype": "text/x-python",
   "name": "python",
   "nbconvert_exporter": "python",
   "pygments_lexer": "ipython3",
   "version": "3.9.13"
  }
 },
 "nbformat": 4,
 "nbformat_minor": 5
}
