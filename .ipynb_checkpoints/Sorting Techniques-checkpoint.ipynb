{
 "cells": [
  {
   "cell_type": "markdown",
   "id": "6ab82f1c",
   "metadata": {},
   "source": [
    "## Selection sort, it finds the min ele and swaps it with initial index"
   ]
  },
  {
   "cell_type": "code",
   "execution_count": 21,
   "id": "7a5c9103",
   "metadata": {},
   "outputs": [
    {
     "name": "stdout",
     "output_type": "stream",
     "text": [
      "Enter the number of items to insert:5\n",
      "Enter the 0th value:1\n",
      "Enter the 1th value:5\n",
      "Enter the 2th value:2\n",
      "Enter the 3th value:3\n",
      "Enter the 4th value:4\n",
      "Before swap values are: [1, 5, 2, 3, 4]\n",
      "After swap values are: [1, 2, 3, 4, 5]\n"
     ]
    }
   ],
   "source": [
    "#selection sort\n",
    "while True:\n",
    "    try:\n",
    "        a=list()\n",
    "        n=int(input('Enter the number of items to insert:'))\n",
    "        for i in range(n):\n",
    "            a.append(int(input(f\"Enter the {i}th value:\")))\n",
    "        print(\"Before swap values are:\",a)    \n",
    "        #outer loop\n",
    "        for i in range(n-1):\n",
    "            minimum=i\n",
    "            #to find minimum in each loop\n",
    "            for j in range(i+1,n):\n",
    "                if a[j]<a[minimum]:\n",
    "                    minimum=j\n",
    "             #perform the swap\n",
    "            a[i],a[minimum]=a[minimum],a[i]\n",
    "        #after swap\n",
    "        print(\"After swap values are:\",a)\n",
    "        break\n",
    "    except ValueError:\n",
    "        print(\"please enter integer only!\")"
   ]
  },
  {
   "cell_type": "code",
   "execution_count": 27,
   "id": "8898061b",
   "metadata": {},
   "outputs": [
    {
     "name": "stdout",
     "output_type": "stream",
     "text": [
      "Enter the number of items to insert:5\n",
      "Enter the 0th value:4\n",
      "Enter the 1th value:3\n",
      "Enter the 2th value:2\n",
      "Enter the 3th value:1\n",
      "Enter the 4th value:0\n",
      "Before swap values are: [4, 3, 2, 1, 0]\n",
      "After swap values are: [0, 1, 2, 3, 4]\n"
     ]
    }
   ],
   "source": [
    "#Bubble sort: find swap if a[j]>a[j+1], this will put largest element at last position\n",
    "#best case of bubble sort o(n)\n",
    "while True:\n",
    "    try:\n",
    "        a=list()\n",
    "        n=int(input('Enter the number of items to insert:'))\n",
    "        for i in range(n):\n",
    "            a.append(int(input(f\"Enter the {i}th value:\")))\n",
    "        print(\"Before swap values are:\",a)    \n",
    "        #outer loop\n",
    "        for i in range(1,n):\n",
    "            count=0\n",
    "            #to find minimum in each loop\n",
    "            for j in range(0,n-i):\n",
    "                if a[j]>a[j+1]:\n",
    "                    #swap\n",
    "                    a[j+1],a[j]=a[j],a[j+1]             \n",
    "                    count+=1\n",
    "            #if already sorted no need to waster o[n^2]\n",
    "            if count==0:\n",
    "                print(\"Already Sorted\")\n",
    "                break\n",
    "        #after swap\n",
    "        print(\"After swap values are:\",a)\n",
    "        break\n",
    "    except ValueError:\n",
    "        print(\"please enter integer only!\")"
   ]
  },
  {
   "cell_type": "code",
   "execution_count": null,
   "id": "90f0d3b8",
   "metadata": {},
   "outputs": [],
   "source": []
  }
 ],
 "metadata": {
  "kernelspec": {
   "display_name": "Python 3 (ipykernel)",
   "language": "python",
   "name": "python3"
  },
  "language_info": {
   "codemirror_mode": {
    "name": "ipython",
    "version": 3
   },
   "file_extension": ".py",
   "mimetype": "text/x-python",
   "name": "python",
   "nbconvert_exporter": "python",
   "pygments_lexer": "ipython3",
   "version": "3.9.13"
  }
 },
 "nbformat": 4,
 "nbformat_minor": 5
}
