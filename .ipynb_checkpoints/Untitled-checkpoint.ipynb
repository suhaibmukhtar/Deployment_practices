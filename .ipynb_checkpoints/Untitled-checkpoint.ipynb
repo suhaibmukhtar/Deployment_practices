{
 "cells": [
  {
   "cell_type": "code",
   "execution_count": null,
   "id": "7cde5d76",
   "metadata": {},
   "outputs": [],
   "source": []
  },
  {
   "cell_type": "code",
   "execution_count": 19,
   "id": "255241c0",
   "metadata": {},
   "outputs": [
    {
     "name": "stdout",
     "output_type": "stream",
     "text": [
      "2024\n"
     ]
    }
   ],
   "source": []
  },
  {
   "cell_type": "code",
   "execution_count": 11,
   "id": "63e21ec4",
   "metadata": {},
   "outputs": [],
   "source": []
  },
  {
   "cell_type": "code",
   "execution_count": 7,
   "id": "5539850e",
   "metadata": {},
   "outputs": [],
   "source": []
  },
  {
   "cell_type": "code",
   "execution_count": null,
   "id": "1cdf6cea",
   "metadata": {},
   "outputs": [
    {
     "name": "stdout",
     "output_type": "stream",
     "text": [
      "1.Sinup\n",
      "2.Signin\n",
      "3.Quit\n",
      "Enter your choice:1\n",
      "Enter name:suhaib\n",
      "Enter address or skip press enter:\n",
      "Enter phone number:0123456789\n",
      "Enter password:s@1\n",
      "Enter the Passoword:s@1\n",
      "Enter dob in format #DD-MM-YYYY:15/07/2001\n",
      "Signup Successfull\n",
      "1.Sinup\n",
      "2.Signin\n",
      "3.Quit\n",
      "Enter your choice:2\n",
      "Enter username (Mobile number):0123\n",
      "Enter the password:s@1\n",
      "0123456789\n",
      "1.Sinup\n",
      "2.Signin\n",
      "3.Quit\n",
      "Enter your choice:2\n",
      "Enter username (Mobile number):0123456789\n",
      "Enter the password:s@1\n",
      "0123456789\n",
      "Login Successfull!\n",
      "   ID       Item  Price\n",
      "0   1    Noodles     10\n",
      "1   2   Doodling     12\n",
      "2   3   Morphins     14\n",
      "3   4      Pasta     16\n",
      "4   5      Pizza     18\n",
      "5   6  Sandwitch     20\n",
      "1.Press 1 for Dvine\n",
      "2.Press 2 for Ordering\n",
      "3.Press 3 to go back to login page\n",
      "Enter the choice1\n",
      "1.Press 1 to select from above items\n",
      "2.Press 2 to select from drink menu\n",
      "\n",
      "Enter the choice:2\n"
     ]
    }
   ],
   "source": []
  },
  {
   "cell_type": "code",
   "execution_count": null,
   "id": "48f13d8d",
   "metadata": {},
   "outputs": [],
   "source": []
  }
 ],
 "metadata": {
  "kernelspec": {
   "display_name": "Python 3 (ipykernel)",
   "language": "python",
   "name": "python3"
  },
  "language_info": {
   "codemirror_mode": {
    "name": "ipython",
    "version": 3
   },
   "file_extension": ".py",
   "mimetype": "text/x-python",
   "name": "python",
   "nbconvert_exporter": "python",
   "pygments_lexer": "ipython3",
   "version": "3.9.13"
  }
 },
 "nbformat": 4,
 "nbformat_minor": 5
}
